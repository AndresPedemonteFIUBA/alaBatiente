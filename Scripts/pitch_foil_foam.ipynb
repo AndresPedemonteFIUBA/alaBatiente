{
 "cells": [
  {
   "cell_type": "code",
   "execution_count": 3,
   "id": "05118636",
   "metadata": {},
   "outputs": [],
   "source": [
    "from IPython.display import Latex\n",
    "from PyFoam.RunDictionary.SolutionDirectory import SolutionDirectory\n",
    "from PyFoam.RunDictionary.ParsedParameterFile import ParsedParameterFile\n",
    "from PyFoam.Basics.DataStructures import Vector\n",
    "import numpy as np\n",
    "import os,shutil,glob\n",
    "path_dir = os.getcwd()\n",
    "caso_referencia = path_dir + \"/alaBatiente\"\n",
    "work_dir = os.getcwd()"
   ]
  },
  {
   "cell_type": "markdown",
   "id": "57020966",
   "metadata": {},
   "source": [
    "\\begin{equation}\n",
    "\\omega_n = \\left(\\frac{kL}{L}\\right)^2 \\sqrt{\\frac{EI}{\\mu}} = \\left(\\frac{kL}{L}\\right)^2 \\sqrt{\\frac{EI/b}{\\mu/b}}\n",
    "\\end{equation}\n",
    "$$m = \\rho L e b$$\n",
    "\n",
    "$$\\mu = m/L$$"
   ]
  },
  {
   "cell_type": "code",
   "execution_count": 4,
   "id": "c1d1b60b",
   "metadata": {},
   "outputs": [
    {
     "data": {
      "text/latex": [
       "frecuencia natural: 12.27 Hz"
      ],
      "text/plain": [
       "<IPython.core.display.Latex object>"
      ]
     },
     "metadata": {},
     "output_type": "display_data"
    },
    {
     "data": {
      "text/latex": [
       "Amplitud angular: 10.00$^\\circ$ "
      ],
      "text/plain": [
       "<IPython.core.display.Latex object>"
      ]
     },
     "metadata": {},
     "output_type": "display_data"
    },
    {
     "data": {
      "text/latex": [
       "Velocidad reducida: $U_R=0.30$"
      ],
      "text/plain": [
       "<IPython.core.display.Latex object>"
      ]
     },
     "metadata": {},
     "output_type": "display_data"
    },
    {
     "data": {
      "text/latex": [
       "Frecuencia adimensional: $f^+=0.98$ "
      ],
      "text/plain": [
       "<IPython.core.display.Latex object>"
      ]
     },
     "metadata": {},
     "output_type": "display_data"
    }
   ],
   "source": [
    "U_s = [0.80, 1.00]\n",
    "f_fs = [12.00, 14.]\n",
    "L =35e-3\n",
    "rho = 1623\n",
    "E =5.62547e09\n",
    "sigma_p = 0.38\n",
    "espesor = 50e-6\n",
    "b =160 # envergadura\n",
    "mu_lineal = rho*espesor\n",
    "kL = 1.875\n",
    "I_b = espesor**3/12\n",
    "wn = (kL/L)**2*np.sqrt(E*I_b/mu_lineal)\n",
    "fn = wn/2/np.pi\n",
    "display(Latex(f'frecuencia natural: {fn:.2f} Hz'))\n",
    "theta0 = 0.1745329\n",
    "display(Latex(f'Amplitud angular: {theta0*180/np.pi:.2f}$^\\circ$ '))\n",
    "\n",
    "i = 0; j = 0\n",
    "f_fj = f_fs[j] / fn\n",
    "U_Ri = U_s[i] / (wn*L)\n",
    "\n",
    "display(Latex(f'Velocidad reducida: $U_R={U_Ri:.2f}$'))\n",
    "display(Latex(f'Frecuencia adimensional: $f^+={f_fj:.2f}$ '))\n",
    "path_caso = path_dir + f\"/UR{U_Ri:.2f}_f{f_fj:.2f}\""
   ]
  },
  {
   "cell_type": "code",
   "execution_count": null,
   "id": "224af184",
   "metadata": {},
   "outputs": [],
   "source": [
    "if not os.path.isdir(path_caso):\n",
    "    shutil.copytree(caso_referencia,path_caso)\n",
    "path_caso_fluido = path_caso+'/fluid'\n",
    "caso_foam = SolutionDirectory(path_caso_fluido, archive=None, paraviewLink=False)  \n",
    "#para caso foam se pueden usar las funciones de pyfoam, pej cambiar condiciones de borde como velocidad\n",
    "\n"
   ]
  },
  {
   "cell_type": "code",
   "execution_count": 11,
   "id": "ce3f5a90",
   "metadata": {},
   "outputs": [],
   "source": [
    "# SimpleFoam\n",
    "\n",
    "# Aplica Velocidad\n",
    "file_U_txt = path_caso+'/simpleFoam/0/U'\n",
    "with open(file_U_txt, \"r+\") as text_file:\n",
    "    texts = text_file.read()\n",
    "    texts = texts.replace(\"0.78\", f\"{U_Ri*wn*L:.2f}\")\n",
    "with open(file_U_txt, \"w\") as text_file:\n",
    "    text_file.write(texts)\n",
    "\n",
    "#Ejecuta\n",
    "os.chdir(path_caso+'/simpleFoam')\n",
    "os.system('simpleFoam')\n",
    "os.chdir(work_dir)"
   ]
  },
  {
   "cell_type": "code",
   "execution_count": 51,
   "id": "cea326e7",
   "metadata": {},
   "outputs": [],
   "source": [
    "0#selecciona ultima solucion\n",
    "lista_files_0 = glob.glob(path_caso+'/simpleFoam/*')\n",
    "lista_files_1 = []\n",
    "indices = []\n",
    "for filei in lista_files_0:\n",
    "    string1 = filei.split('/')[-1] \n",
    "    if any(c.isdigit() for c in string1):\n",
    "        lista_files_1.append(filei)\n",
    "        indices.append(int(string1))\n",
    "indices = np.asarray(indices)        \n",
    "lista_files_1 = np.asarray(lista_files_1)[indices.argsort()]\n",
    "        "
   ]
  },
  {
   "cell_type": "code",
   "execution_count": 54,
   "id": "bee6900e",
   "metadata": {},
   "outputs": [],
   "source": [
    "#Copia el ultimo resultado a fluid\n",
    "    \n",
    "lista_files = glob.glob(lista_files_1[-1]+'/*')\n",
    "for filei in lista_files:\n",
    "    if not os.path.isdir(filei):\n",
    "        shutil.copy(filei,path_caso+'/fluid/0/')"
   ]
  },
  {
   "cell_type": "code",
   "execution_count": 26,
   "id": "66600b9a",
   "metadata": {},
   "outputs": [
    {
     "data": {
      "text/latex": [
       "Amplitud angular: 9.59$^\\circ$ "
      ],
      "text/plain": [
       "<IPython.core.display.Latex object>"
      ]
     },
     "metadata": {},
     "output_type": "display_data"
    }
   ],
   "source": [
    "#parametros ccx. En solido/ala.inp / precice config / uboun.f\n",
    "\n",
    "omega = np.pi*10\n",
    "r = 10e-4  #radio del eje que oscila \n",
    "ang1 = np.arcsin(25e-5 / r)\n",
    "display(Latex(f'Amplitud angular: {ang1*180/np.pi:.2f}$^\\circ$ '))"
   ]
  },
  {
   "cell_type": "markdown",
   "id": "d338c1f9",
   "metadata": {},
   "source": [
    "[Ver](https://jhoepken.github.io/blog/2012/01/22/parameter-variation-in-openfoam-using-pyfoam/) para un ejemplo de variación de condiciones de borde con pyfoam.\n",
    "\n",
    "De todas formas, hay que terminar editando con comandos como los anteriores para modificar ccx y detalles del OpenFoam (tiempos)"
   ]
  },
  {
   "cell_type": "code",
   "execution_count": null,
   "id": "560b9c47",
   "metadata": {},
   "outputs": [],
   "source": []
  }
 ],
 "metadata": {
  "kernelspec": {
   "display_name": "Python 3 (ipykernel)",
   "language": "python",
   "name": "python3"
  },
  "language_info": {
   "codemirror_mode": {
    "name": "ipython",
    "version": 3
   },
   "file_extension": ".py",
   "mimetype": "text/x-python",
   "name": "python",
   "nbconvert_exporter": "python",
   "pygments_lexer": "ipython3",
   "version": "3.8.10"
  },
  "latex_envs": {
   "LaTeX_envs_menu_present": true,
   "autoclose": true,
   "autocomplete": true,
   "bibliofile": "biblio.bib",
   "cite_by": "apalike",
   "current_citInitial": 1,
   "eqLabelWithNumbers": true,
   "eqNumInitial": 1,
   "hotkeys": {
    "equation": "Ctrl-E",
    "itemize": "Ctrl-I"
   },
   "labels_anchors": false,
   "latex_user_defs": false,
   "report_style_numbering": false,
   "user_envs_cfg": false
  }
 },
 "nbformat": 4,
 "nbformat_minor": 5
}
