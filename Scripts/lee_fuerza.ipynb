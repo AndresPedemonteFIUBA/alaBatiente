{
 "cells": [
  {
   "cell_type": "code",
   "execution_count": 8,
   "metadata": {},
   "outputs": [],
   "source": [
    "from IPython.display import Latex\n",
    "from PyFoam.RunDictionary.SolutionDirectory import SolutionDirectory\n",
    "from PyFoam.RunDictionary.ParsedParameterFile import ParsedParameterFile\n",
    "from PyFoam.Basics.DataStructures import Vector\n",
    "import numpy as np\n",
    "import pandas as pd\n",
    "from scipy.signal import find_peaks\n",
    "import os,shutil,glob\n",
    "import pylab, re\n",
    "import matplotlib.pyplot as plt\n",
    "from tikzplotlib import save as tikz_save"
   ]
  },
  {
   "cell_type": "code",
   "execution_count": 9,
   "metadata": {},
   "outputs": [],
   "source": [
    "A = pd.read_csv('/home/andres/Desktop/Drag/newDomain/08310HzCD.csv',header=None,delimiter='\\t')\n",
    "f=10 #Hz"
   ]
  },
  {
   "cell_type": "code",
   "execution_count": 10,
   "metadata": {},
   "outputs": [],
   "source": [
    "t, Cd, Cl=  A.to_numpy().T\n",
    "td = t[263:564]\n",
    "tl = t[241:541]\n",
    "Cd=Cd[263:564]\n",
    "Cl=Cl[241:541]\n",
    "td=(td-2.663)*f\n",
    "tl=(tl-2.641)*f\n",
    "fplus=f/13.27 #Hz"
   ]
  },
  {
   "cell_type": "code",
   "execution_count": 11,
   "metadata": {},
   "outputs": [],
   "source": [
    "Cd.argmax()\n",
    "nmaxs =  find_peaks(Cd,distance=30)[0]\n",
    "\n",
    "Cd_m = Cd[nmaxs[0]:nmaxs[-1]].mean()"
   ]
  },
  {
   "cell_type": "code",
   "execution_count": 12,
   "metadata": {
    "scrolled": true
   },
   "outputs": [
    {
     "data": {
      "image/png": "[encoded data removed]",
      "text/plain": [
       "<Figure size 432x288 with 1 Axes>"
      ]
     },
     "metadata": {
      "needs_background": "light"
     },
     "output_type": "display_data"
    }
   ],
   "source": [
    "fig,ax = plt.subplots()\n",
    "plt.rcParams['text.usetex'] = True\n",
    "plt.rcParams.update({\n",
    "    \"text.usetex\": True,\n",
    "    \"font.family\": \"serif\",\n",
    "    \"font.serif\": [\"Palatino\"],\n",
    "})\n",
    "ax.plot(td,Cd,'o',markersize=2,label='$C_D$')\n",
    "ax.plot(td[nmaxs],Cd[nmaxs],'s',fillstyle='none',markersize=10,markeredgewidth=3)#,label='Máximo')\n",
    "ax.plot(td,Cd_m+td*0,color='k',linewidth=2,label=r'$\\langle C_D \\rangle$'+f'={Cd_m:.3f}')\n",
    "ax.set_xlabel('$t/T$',size=12)\n",
    "ax.set_ylabel('$C_D$',size=12)\n",
    "plt.xticks(fontsize=12)\n",
    "plt.yticks(fontsize=12)\n",
    "ax.set_title('$V_R=0.28$',loc='left')\n",
    "ax.set_title('$f^+={:0.2f}$'.format(fplus),loc='right')\n",
    "ax.grid()\n",
    "ax.legend(prop={'size': 11})\n",
    "plt.legend(bbox_to_anchor=(0.5, 1.15), loc='upper center', ncol=2, fontsize=12)\n",
    "#tikz_save('CD_ref.tikz')\n",
    "plt.savefig('CD-083ms-10Hz.pdf')\n",
    "plt.savefig('CD-083ms-10Hz.png')"
   ]
  },
  {
   "cell_type": "code",
   "execution_count": 13,
   "metadata": {},
   "outputs": [
    {
     "name": "stdout",
     "output_type": "stream",
     "text": [
      "[ 24 124 224]\n"
     ]
    }
   ],
   "source": [
    "Cl.argmax()\n",
    "nmaxs =  find_peaks(Cl,distance=40)[0]\n",
    "print(nmaxs)\n",
    "Cl_m = Cl[nmaxs[0]:nmaxs[-1]].mean()"
   ]
  },
  {
   "cell_type": "code",
   "execution_count": 14,
   "metadata": {},
   "outputs": [
    {
     "data": {
      "image/png": "[encoded data removed]",
      "text/plain": [
       "<Figure size 432x288 with 1 Axes>"
      ]
     },
     "metadata": {
      "needs_background": "light"
     },
     "output_type": "display_data"
    }
   ],
   "source": [
    "fig,ax = plt.subplots()\n",
    "plt.rcParams['text.usetex'] = True\n",
    "plt.rcParams.update({\n",
    "    \"text.usetex\": True,\n",
    "    \"font.family\": \"serif\",\n",
    "    \"font.serif\": [\"Palatino\"],\n",
    "})\n",
    "ax.plot(tl,Cl,'o',markersize=2,label='$C_L$')\n",
    "ax.plot(tl[nmaxs],Cl[nmaxs],'s',fillstyle='none',markersize=10,markeredgewidth=3)#,label='Máximo')\n",
    "ax.plot(tl,Cl_m+tl*0,color='k',linewidth=2,label=r'$\\langle C_L \\rangle$'+f'={Cl_m:.3f}')\n",
    "ax.set_xlabel('$t/T$',size=12)\n",
    "ax.set_ylabel('$C_L$',size=12)\n",
    "plt.xticks(fontsize=12)\n",
    "plt.yticks(fontsize=12)\n",
    "ax.set_title('$V_R=0.28$',loc='left')\n",
    "ax.set_title('$f^+={:0.2f}$'.format(fplus),loc='right')\n",
    "ax.grid()\n",
    "ax.legend(prop={'size': 11})\n",
    "plt.legend(bbox_to_anchor=(0.5, 1.15), loc='upper center', ncol=2, fontsize=12)\n",
    "plt.savefig('CL-083ms-10Hz.pdf')\n",
    "plt.savefig('CL-083ms-10Hz.png')"
   ]
  },
  {
   "cell_type": "code",
   "execution_count": null,
   "metadata": {},
   "outputs": [],
   "source": []
  }
 ],
 "metadata": {
  "kernelspec": {
   "display_name": "Python 3 (ipykernel)",
   "language": "python",
   "name": "python3"
  },
  "language_info": {
   "codemirror_mode": {
    "name": "ipython",
    "version": 3
   },
   "file_extension": ".py",
   "mimetype": "text/x-python",
   "name": "python",
   "nbconvert_exporter": "python",
   "pygments_lexer": "ipython3",
   "version": "3.8.10"
  },
  "latex_envs": {
   "LaTeX_envs_menu_present": true,
   "autoclose": false,
   "autocomplete": true,
   "bibliofile": "biblio.bib",
   "cite_by": "apalike",
   "current_citInitial": 1,
   "eqLabelWithNumbers": true,
   "eqNumInitial": 1,
   "hotkeys": {
    "equation": "Ctrl-E",
    "itemize": "Ctrl-I"
   },
   "labels_anchors": false,
   "latex_user_defs": false,
   "report_style_numbering": false,
   "user_envs_cfg": false
  }
 },
 "nbformat": 4,
 "nbformat_minor": 4
}
